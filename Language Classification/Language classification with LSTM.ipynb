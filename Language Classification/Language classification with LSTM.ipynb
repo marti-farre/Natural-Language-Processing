{
 "cells": [
  {
   "cell_type": "code",
   "execution_count": 1,
   "id": "b65ac3b2",
   "metadata": {
    "_cell_guid": "b1076dfc-b9ad-4769-8c92-a6c4dae69d19",
    "_uuid": "8f2839f25d086af736a60e9eeb907d3b93b6e0e5",
    "execution": {
     "iopub.execute_input": "2023-04-13T08:20:55.569561Z",
     "iopub.status.busy": "2023-04-13T08:20:55.568584Z",
     "iopub.status.idle": "2023-04-13T08:20:59.901099Z",
     "shell.execute_reply": "2023-04-13T08:20:59.899781Z"
    },
    "papermill": {
     "duration": 4.342394,
     "end_time": "2023-04-13T08:20:59.903372",
     "exception": false,
     "start_time": "2023-04-13T08:20:55.560978",
     "status": "completed"
    },
    "tags": []
   },
   "outputs": [
    {
     "name": "stdout",
     "output_type": "stream",
     "text": [
      "['Scripts.txt', 'x_train.txt', 'x_test.txt', 'y_train.txt', 'labels.csv']\n",
      "Example:\n",
      "LANG = est\n",
      "TEXT = Klement Gottwaldi surnukeha palsameeriti ning paigutati mausoleumi. Surnukeha oli aga liiga hilja ja oskamatult palsameeritud ning hakkas ilmutama lagunemise tundemärke. 1962. aastal viidi ta surnukeha mausoleumist ära ja kremeeriti. Zlíni linn kandis aastatel 1949–1989 nime Gottwaldov. Ukrainas Harkivi oblastis kandis Zmiivi linn aastatel 1976–1990 nime Gotvald.\n"
     ]
    }
   ],
   "source": [
    "# This Python 3 environment comes with many helpful analytics libraries installed\n",
    "import random\n",
    "import numpy as np # linear algebra\n",
    "import pandas as pd # data processing, CSV file I/O (e.g. pd.read_csv)\n",
    "import torch # Deep learning framework\n",
    "import torch.nn.functional as F\n",
    "import time\n",
    "\n",
    "# Input data files are available in the \"../input/\" directory.\n",
    "import os\n",
    "INPUTDIR = '../input/wili6'\n",
    "print(os.listdir(f'{INPUTDIR}'))\n",
    "\n",
    "#Init random seed to get reproducible results\n",
    "seed = 1111\n",
    "random.seed(seed)\n",
    "np.random.RandomState(seed)\n",
    "torch.manual_seed(seed)\n",
    "\n",
    "# Any results you write to the current directory are saved as output.\n",
    "x_train_full = open(f'{INPUTDIR}/x_train.txt').read().splitlines()\n",
    "y_train_full = open(f'{INPUTDIR}/y_train.txt').read().splitlines()\n",
    "print('Example:')\n",
    "print('LANG =', y_train_full[0])\n",
    "print('TEXT =', x_train_full[0])"
   ]
  },
  {
   "cell_type": "code",
   "execution_count": 2,
   "id": "ed803776",
   "metadata": {
    "_cell_guid": "79c7e3d0-c299-4dcb-8224-4455121ee9b0",
    "_uuid": "d629ff2d2480ee46fbb7e2d37f6b5fab8052498a",
    "execution": {
     "iopub.execute_input": "2023-04-13T08:20:59.916358Z",
     "iopub.status.busy": "2023-04-13T08:20:59.915915Z",
     "iopub.status.idle": "2023-04-13T08:20:59.922373Z",
     "shell.execute_reply": "2023-04-13T08:20:59.921309Z"
    },
    "papermill": {
     "duration": 0.015219,
     "end_time": "2023-04-13T08:20:59.924546",
     "exception": false,
     "start_time": "2023-04-13T08:20:59.909327",
     "status": "completed"
    },
    "tags": []
   },
   "outputs": [],
   "source": [
    "class Dictionary(object):\n",
    "    def __init__(self):\n",
    "        self.token2idx = {}\n",
    "        self.idx2token = []\n",
    "\n",
    "    def add_token(self, token):\n",
    "        if token not in self.token2idx:\n",
    "            self.idx2token.append(token)\n",
    "            self.token2idx[token] = len(self.idx2token) - 1\n",
    "        return self.token2idx[token]\n",
    "\n",
    "    def __len__(self):\n",
    "        return len(self.idx2token)"
   ]
  },
  {
   "cell_type": "markdown",
   "id": "47e74e7a",
   "metadata": {
    "papermill": {
     "duration": 0.005272,
     "end_time": "2023-04-13T08:20:59.935229",
     "exception": false,
     "start_time": "2023-04-13T08:20:59.929957",
     "status": "completed"
    },
    "tags": []
   },
   "source": [
    "The **Dictionary** class is used to map tokens (characters, words, subwords) into consecutive integer indexes.  \n",
    "The index **0** is reserved for padding sequences up to a fixed lenght, and the index **1** for any 'unknown' character"
   ]
  },
  {
   "cell_type": "code",
   "execution_count": 3,
   "id": "39b196b1",
   "metadata": {
    "execution": {
     "iopub.execute_input": "2023-04-13T08:20:59.947197Z",
     "iopub.status.busy": "2023-04-13T08:20:59.946929Z",
     "iopub.status.idle": "2023-04-13T08:21:01.271730Z",
     "shell.execute_reply": "2023-04-13T08:21:01.270437Z"
    },
    "papermill": {
     "duration": 1.333341,
     "end_time": "2023-04-13T08:21:01.274054",
     "exception": false,
     "start_time": "2023-04-13T08:20:59.940713",
     "status": "completed"
    },
    "tags": []
   },
   "outputs": [
    {
     "name": "stdout",
     "output_type": "stream",
     "text": [
      "Vocabulary: 10808 UTF characters\n",
      "Labels: 235 languages\n"
     ]
    }
   ],
   "source": [
    "char_vocab = Dictionary()\n",
    "pad_token = '<pad>' # reserve index 0 for padding\n",
    "unk_token = '<unk>' # reserve index 1 for unknown token\n",
    "pad_index = char_vocab.add_token(pad_token)\n",
    "unk_index = char_vocab.add_token(unk_token)\n",
    "\n",
    "# join all the training sentences in a single string\n",
    "# and obtain the list of different characters with set\n",
    "chars = set(''.join(x_train_full))\n",
    "for char in sorted(chars):\n",
    "    char_vocab.add_token(char)\n",
    "print(\"Vocabulary:\", len(char_vocab), \"UTF characters\")\n",
    "\n",
    "lang_vocab = Dictionary()\n",
    "# use python set to obtain the list of languages without repetitions\n",
    "languages = set(y_train_full)\n",
    "for lang in sorted(languages):\n",
    "    lang_vocab.add_token(lang)\n",
    "print(\"Labels:\", len(lang_vocab), \"languages\")"
   ]
  },
  {
   "cell_type": "code",
   "execution_count": 4,
   "id": "d916ccc6",
   "metadata": {
    "execution": {
     "iopub.execute_input": "2023-04-13T08:21:01.288959Z",
     "iopub.status.busy": "2023-04-13T08:21:01.287949Z",
     "iopub.status.idle": "2023-04-13T08:21:09.411867Z",
     "shell.execute_reply": "2023-04-13T08:21:09.410689Z"
    },
    "papermill": {
     "duration": 8.133748,
     "end_time": "2023-04-13T08:21:09.414126",
     "exception": false,
     "start_time": "2023-04-13T08:21:01.280378",
     "status": "completed"
    },
    "tags": []
   },
   "outputs": [
    {
     "name": "stdout",
     "output_type": "stream",
     "text": [
      "a -> 67\n",
      "cat -> 28\n",
      "est Klement Go\n",
      "52 [45 78 71 79 71 80 86  2 41 81]\n"
     ]
    }
   ],
   "source": [
    "#From token or label to index\n",
    "print('a ->', char_vocab.token2idx['a'])\n",
    "print('cat ->', lang_vocab.token2idx['cat'])\n",
    "print(y_train_full[0], x_train_full[0][:10])\n",
    "x_train_idx = [np.array([char_vocab.token2idx[c] for c in line]) for line in x_train_full]\n",
    "y_train_idx = np.array([lang_vocab.token2idx[lang] for lang in y_train_full])\n",
    "print(y_train_idx[0], x_train_idx[0][:10])"
   ]
  },
  {
   "cell_type": "markdown",
   "id": "4bf155ba",
   "metadata": {
    "papermill": {
     "duration": 0.005672,
     "end_time": "2023-04-13T08:21:09.425707",
     "exception": false,
     "start_time": "2023-04-13T08:21:09.420035",
     "status": "completed"
    },
    "tags": []
   },
   "source": [
    "Radomly select 15% of the database for validation  \n",
    "Create lists of (input, target) tuples for training and validation"
   ]
  },
  {
   "cell_type": "code",
   "execution_count": 5,
   "id": "1566ae12",
   "metadata": {
    "execution": {
     "iopub.execute_input": "2023-04-13T08:21:09.438972Z",
     "iopub.status.busy": "2023-04-13T08:21:09.438011Z",
     "iopub.status.idle": "2023-04-13T08:21:10.388347Z",
     "shell.execute_reply": "2023-04-13T08:21:10.387307Z"
    },
    "papermill": {
     "duration": 0.95929,
     "end_time": "2023-04-13T08:21:10.390565",
     "exception": false,
     "start_time": "2023-04-13T08:21:09.431275",
     "status": "completed"
    },
    "tags": []
   },
   "outputs": [
    {
     "name": "stdout",
     "output_type": "stream",
     "text": [
      "99875 training samples\n",
      "17625 validation samples\n"
     ]
    }
   ],
   "source": [
    "from sklearn.model_selection import train_test_split\n",
    "x_train, x_val, y_train, y_val = train_test_split(x_train_idx, y_train_idx, test_size=0.15, random_state=seed)\n",
    "train_data = [(x, y) for x, y in zip(x_train, y_train)]\n",
    "val_data = [(x, y) for x, y in zip(x_val, y_val)]\n",
    "print(len(train_data), \"training samples\")\n",
    "print(len(val_data), \"validation samples\")"
   ]
  },
  {
   "cell_type": "code",
   "execution_count": 6,
   "id": "7154ce49",
   "metadata": {
    "execution": {
     "iopub.execute_input": "2023-04-13T08:21:10.403701Z",
     "iopub.status.busy": "2023-04-13T08:21:10.403403Z",
     "iopub.status.idle": "2023-04-13T08:21:10.410780Z",
     "shell.execute_reply": "2023-04-13T08:21:10.409677Z"
    },
    "papermill": {
     "duration": 0.016317,
     "end_time": "2023-04-13T08:21:10.412832",
     "exception": false,
     "start_time": "2023-04-13T08:21:10.396515",
     "status": "completed"
    },
    "tags": []
   },
   "outputs": [],
   "source": [
    "def batch_generator(data, batch_size, token_size):\n",
    "    \"\"\"Yield elements from data in chunks with a maximum of batch_size sequences and token_size tokens.\"\"\"\n",
    "    minibatch, sequences_so_far, tokens_so_far = [], 0, 0\n",
    "    for ex in data:\n",
    "        seq_len = len(ex[0])\n",
    "        if seq_len > token_size:\n",
    "            ex = (ex[0][:token_size], ex[1])\n",
    "            seq_len = token_size\n",
    "        minibatch.append(ex)\n",
    "        sequences_so_far += 1\n",
    "        tokens_so_far += seq_len\n",
    "        if sequences_so_far == batch_size or tokens_so_far == token_size:\n",
    "            yield minibatch\n",
    "            minibatch, sequences_so_far, tokens_so_far = [], 0, 0\n",
    "        elif sequences_so_far > batch_size or tokens_so_far > token_size:\n",
    "            yield minibatch[:-1]\n",
    "            minibatch, sequences_so_far, tokens_so_far = minibatch[-1:], 1, len(minibatch[-1][0])\n",
    "    if minibatch:\n",
    "        yield minibatch"
   ]
  },
  {
   "cell_type": "code",
   "execution_count": 7,
   "id": "d29d9692",
   "metadata": {
    "execution": {
     "iopub.execute_input": "2023-04-13T08:21:10.426505Z",
     "iopub.status.busy": "2023-04-13T08:21:10.424975Z",
     "iopub.status.idle": "2023-04-13T08:21:10.432318Z",
     "shell.execute_reply": "2023-04-13T08:21:10.431451Z"
    },
    "papermill": {
     "duration": 0.016074,
     "end_time": "2023-04-13T08:21:10.434437",
     "exception": false,
     "start_time": "2023-04-13T08:21:10.418363",
     "status": "completed"
    },
    "tags": []
   },
   "outputs": [],
   "source": [
    "def pool_generator(data, batch_size, token_size, shuffle=False):\n",
    "    \"\"\"Sort within buckets, then batch, then shuffle batches.\n",
    "    Partitions data into chunks of size 100*token_size, sorts examples within\n",
    "    each chunk, then batch these examples and shuffle the batches.\n",
    "    \"\"\"\n",
    "    for p in batch_generator(data, batch_size * 100, token_size * 100):\n",
    "        p_batch = batch_generator(sorted(p, key=lambda t: len(t[0]), reverse=True), batch_size, token_size)\n",
    "        p_list = list(p_batch)\n",
    "        if shuffle:\n",
    "            for b in random.sample(p_list, len(p_list)):\n",
    "                yield b\n",
    "        else:\n",
    "            for b in p_list:\n",
    "                yield b"
   ]
  },
  {
   "cell_type": "markdown",
   "id": "56802a2e",
   "metadata": {
    "papermill": {
     "duration": 0.005434,
     "end_time": "2023-04-13T08:21:10.445538",
     "exception": false,
     "start_time": "2023-04-13T08:21:10.440104",
     "status": "completed"
    },
    "tags": []
   },
   "source": [
    "**DNN Model**  \n",
    "Includes Python comments with the dimension of the input  matrix:  \n",
    "T = Max number of tokens in a sequence  \n",
    "B = Number of sequences (batch size)  \n",
    "E = Embedding dim  \n",
    "H = Hidden size  \n",
    "O = Output size (number of languages)"
   ]
  },
  {
   "cell_type": "code",
   "execution_count": 8,
   "id": "92bd507f",
   "metadata": {
    "execution": {
     "iopub.execute_input": "2023-04-13T08:21:10.458592Z",
     "iopub.status.busy": "2023-04-13T08:21:10.457801Z",
     "iopub.status.idle": "2023-04-13T08:21:10.467186Z",
     "shell.execute_reply": "2023-04-13T08:21:10.466291Z"
    },
    "papermill": {
     "duration": 0.018164,
     "end_time": "2023-04-13T08:21:10.469309",
     "exception": false,
     "start_time": "2023-04-13T08:21:10.451145",
     "status": "completed"
    },
    "tags": []
   },
   "outputs": [],
   "source": [
    "class CharRNNClassifier(torch.nn.Module):\n",
    "\n",
    "    def __init__(self, input_size, embedding_size, hidden_size, output_size, model=\"lstm\", num_layers=1, bidirectional=False, pad_idx=0):\n",
    "        super().__init__()\n",
    "        self.model = model.lower()\n",
    "        self.hidden_size = hidden_size\n",
    "        self.embed = torch.nn.Embedding(input_size, embedding_size, padding_idx=pad_idx)\n",
    "        if self.model == \"gru\":\n",
    "            self.rnn = torch.nn.GRU(embedding_size, hidden_size, num_layers, bidirectional=bidirectional)\n",
    "        elif self.model == \"lstm\":\n",
    "            self.rnn = torch.nn.LSTM(embedding_size, hidden_size, num_layers, bidirectional=bidirectional)\n",
    "        self.h2o = torch.nn.Linear(hidden_size, output_size)\n",
    "        \n",
    "    def forward(self, input, input_lengths):\n",
    "        # T x B\n",
    "        encoded = self.embed(input)\n",
    "        # T x B x E\n",
    "        packed = torch.nn.utils.rnn.pack_padded_sequence(encoded, input_lengths)\n",
    "        # Packed T x B x E\n",
    "        output, _ = self.rnn(packed)\n",
    "        # Packed T x B x H\n",
    "        # Important: you may need to replace '-inf' with the default zero padding for other pooling layers\n",
    "        padded, _ = torch.nn.utils.rnn.pad_packed_sequence(output, padding_value=float('-inf'))\n",
    "        # T x B x H\n",
    "        output, _ = padded.max(dim=0)\n",
    "        # B x H\n",
    "        output = self.h2o(output)\n",
    "        # B x O\n",
    "        return output"
   ]
  },
  {
   "cell_type": "code",
   "execution_count": 9,
   "id": "07d6b2b5",
   "metadata": {
    "execution": {
     "iopub.execute_input": "2023-04-13T08:21:10.482439Z",
     "iopub.status.busy": "2023-04-13T08:21:10.481536Z",
     "iopub.status.idle": "2023-04-13T08:21:10.559238Z",
     "shell.execute_reply": "2023-04-13T08:21:10.558325Z"
    },
    "papermill": {
     "duration": 0.08659,
     "end_time": "2023-04-13T08:21:10.561551",
     "exception": false,
     "start_time": "2023-04-13T08:21:10.474961",
     "status": "completed"
    },
    "tags": []
   },
   "outputs": [],
   "source": [
    "if not torch.cuda.is_available():\n",
    "    print(\"WARNING: CUDA is not available. Select 'GPU On' on kernel settings\")\n",
    "device = torch.device(\"cuda\")\n",
    "torch.cuda.manual_seed(seed)"
   ]
  },
  {
   "cell_type": "markdown",
   "id": "08ca20be",
   "metadata": {
    "papermill": {
     "duration": 0.006005,
     "end_time": "2023-04-13T08:21:10.573393",
     "exception": false,
     "start_time": "2023-04-13T08:21:10.567388",
     "status": "completed"
    },
    "tags": []
   },
   "source": [
    "The **nn.CrossEntropyLoss()** criterion combines **nn.LogSoftmax()** and **nn.NLLLoss()** in one single class.  \n",
    "It is useful when training a classification problem."
   ]
  },
  {
   "cell_type": "code",
   "execution_count": 10,
   "id": "4ede4ff4",
   "metadata": {
    "execution": {
     "iopub.execute_input": "2023-04-13T08:21:10.585974Z",
     "iopub.status.busy": "2023-04-13T08:21:10.585693Z",
     "iopub.status.idle": "2023-04-13T08:21:10.590638Z",
     "shell.execute_reply": "2023-04-13T08:21:10.589676Z"
    },
    "papermill": {
     "duration": 0.013536,
     "end_time": "2023-04-13T08:21:10.592723",
     "exception": false,
     "start_time": "2023-04-13T08:21:10.579187",
     "status": "completed"
    },
    "tags": []
   },
   "outputs": [],
   "source": [
    "criterion = torch.nn.CrossEntropyLoss(reduction='sum')"
   ]
  },
  {
   "cell_type": "code",
   "execution_count": 11,
   "id": "aca70961",
   "metadata": {
    "execution": {
     "iopub.execute_input": "2023-04-13T08:21:10.605165Z",
     "iopub.status.busy": "2023-04-13T08:21:10.604898Z",
     "iopub.status.idle": "2023-04-13T08:21:10.614651Z",
     "shell.execute_reply": "2023-04-13T08:21:10.613656Z"
    },
    "papermill": {
     "duration": 0.018459,
     "end_time": "2023-04-13T08:21:10.616713",
     "exception": false,
     "start_time": "2023-04-13T08:21:10.598254",
     "status": "completed"
    },
    "tags": []
   },
   "outputs": [],
   "source": [
    "def train(model, optimizer, data, batch_size, token_size, max_norm=1, log=False):\n",
    "    model.train()\n",
    "    total_loss = 0\n",
    "    ncorrect = 0\n",
    "    nsentences = 0\n",
    "    ntokens = 0\n",
    "    niterations = 0\n",
    "    for batch in pool_generator(data, batch_size, token_size, shuffle=True):\n",
    "        # Get input and target sequences from batch\n",
    "        X = [torch.from_numpy(d[0]) for d in batch]\n",
    "        X_lengths = [x.numel() for x in X]\n",
    "        ntokens += sum(X_lengths)\n",
    "        X_lengths = torch.tensor(X_lengths, dtype=torch.long)\n",
    "        y = torch.tensor([d[1] for d in batch], dtype=torch.long, device=device)\n",
    "        # Pad the input sequences to create a matrix\n",
    "        X = torch.nn.utils.rnn.pad_sequence(X).to(device)\n",
    "        model.zero_grad()\n",
    "        output = model(X, X_lengths)\n",
    "        loss = criterion(output, y)\n",
    "        loss.backward()\n",
    "        torch.nn.utils.clip_grad_norm_(model.parameters(), max_norm)      # Gradient clipping https://www.kaggle.com/c/wili4/discussion/231378\n",
    "        optimizer.step()\n",
    "        # Training statistics\n",
    "        total_loss += loss.item()\n",
    "        ncorrect += (torch.max(output, 1)[1] == y).sum().item()\n",
    "        nsentences += y.numel()\n",
    "        niterations += 1\n",
    "    \n",
    "    total_loss = total_loss / nsentences\n",
    "    accuracy = 100 * ncorrect / nsentences\n",
    "    if log:\n",
    "        print(f'Train: wpb={ntokens//niterations}, bsz={nsentences//niterations}, num_updates={niterations}')\n",
    "    return accuracy"
   ]
  },
  {
   "cell_type": "code",
   "execution_count": 12,
   "id": "93082630",
   "metadata": {
    "execution": {
     "iopub.execute_input": "2023-04-13T08:21:10.629458Z",
     "iopub.status.busy": "2023-04-13T08:21:10.628698Z",
     "iopub.status.idle": "2023-04-13T08:21:10.636420Z",
     "shell.execute_reply": "2023-04-13T08:21:10.635629Z"
    },
    "papermill": {
     "duration": 0.016121,
     "end_time": "2023-04-13T08:21:10.638459",
     "exception": false,
     "start_time": "2023-04-13T08:21:10.622338",
     "status": "completed"
    },
    "tags": []
   },
   "outputs": [],
   "source": [
    "def validate(model, data, batch_size, token_size):\n",
    "    model.eval()\n",
    "    # calculate accuracy on validation set\n",
    "    ncorrect = 0\n",
    "    nsentences = 0\n",
    "    with torch.no_grad():\n",
    "        for batch in pool_generator(data, batch_size, token_size):\n",
    "            # Get input and target sequences from batch\n",
    "            X = [torch.from_numpy(d[0]) for d in batch]\n",
    "            X_lengths = torch.tensor([x.numel() for x in X], dtype=torch.long)\n",
    "            y = torch.tensor([d[1] for d in batch], dtype=torch.long, device=device)\n",
    "            # Pad the input sequences to create a matrix\n",
    "            X = torch.nn.utils.rnn.pad_sequence(X).to(device)\n",
    "            answer = model(X, X_lengths)\n",
    "            ncorrect += (torch.max(answer, 1)[1] == y).sum().item()\n",
    "            nsentences += y.numel()\n",
    "        dev_acc = 100 * ncorrect / nsentences\n",
    "    return dev_acc"
   ]
  },
  {
   "cell_type": "code",
   "execution_count": 13,
   "id": "19641efa",
   "metadata": {
    "execution": {
     "iopub.execute_input": "2023-04-13T08:21:10.650976Z",
     "iopub.status.busy": "2023-04-13T08:21:10.650714Z",
     "iopub.status.idle": "2023-04-13T08:21:10.655148Z",
     "shell.execute_reply": "2023-04-13T08:21:10.654177Z"
    },
    "papermill": {
     "duration": 0.013123,
     "end_time": "2023-04-13T08:21:10.657170",
     "exception": false,
     "start_time": "2023-04-13T08:21:10.644047",
     "status": "completed"
    },
    "tags": []
   },
   "outputs": [],
   "source": [
    "hidden_size = 256\n",
    "embedding_size = 64\n",
    "bidirectional = False\n",
    "ntokens = len(char_vocab)\n",
    "nlabels = len(lang_vocab)"
   ]
  },
  {
   "cell_type": "markdown",
   "id": "55857ff1",
   "metadata": {
    "papermill": {
     "duration": 0.005421,
     "end_time": "2023-04-13T08:21:10.668122",
     "exception": false,
     "start_time": "2023-04-13T08:21:10.662701",
     "status": "completed"
    },
    "tags": []
   },
   "source": [
    "Model for cross-validation"
   ]
  },
  {
   "cell_type": "code",
   "execution_count": 14,
   "id": "7fd822dc",
   "metadata": {
    "execution": {
     "iopub.execute_input": "2023-04-13T08:21:10.680982Z",
     "iopub.status.busy": "2023-04-13T08:21:10.680195Z",
     "iopub.status.idle": "2023-04-13T08:21:10.685500Z",
     "shell.execute_reply": "2023-04-13T08:21:10.684659Z"
    },
    "papermill": {
     "duration": 0.013819,
     "end_time": "2023-04-13T08:21:10.687589",
     "exception": false,
     "start_time": "2023-04-13T08:21:10.673770",
     "status": "completed"
    },
    "tags": []
   },
   "outputs": [],
   "source": [
    "def get_model():\n",
    "    model = CharRNNClassifier(ntokens, embedding_size, hidden_size, nlabels, bidirectional=bidirectional, pad_idx=pad_index).to(device)\n",
    "    optimizer = torch.optim.Adam(model.parameters())\n",
    "    return model, optimizer"
   ]
  },
  {
   "cell_type": "code",
   "execution_count": 15,
   "id": "7fbc6290",
   "metadata": {
    "execution": {
     "iopub.execute_input": "2023-04-13T08:21:10.700411Z",
     "iopub.status.busy": "2023-04-13T08:21:10.699508Z",
     "iopub.status.idle": "2023-04-13T08:45:32.138652Z",
     "shell.execute_reply": "2023-04-13T08:45:32.137594Z"
    },
    "papermill": {
     "duration": 1461.448233,
     "end_time": "2023-04-13T08:45:32.141381",
     "exception": false,
     "start_time": "2023-04-13T08:21:10.693148",
     "status": "completed"
    },
    "tags": []
   },
   "outputs": [
    {
     "name": "stdout",
     "output_type": "stream",
     "text": [
      "Training cross-validation model for 25 epochs\n",
      "Train: wpb=90535, bsz=245, num_updates=407\n",
      "| epoch 001 | train accuracy=25.1% (58s)\n",
      "| epoch 001 | valid accuracy=55.2%\n",
      "| epoch 002 | train accuracy=68.2% (116s)\n",
      "| epoch 002 | valid accuracy=76.7%\n",
      "| epoch 003 | train accuracy=81.3% (174s)\n",
      "| epoch 003 | valid accuracy=84.4%\n",
      "| epoch 004 | train accuracy=86.7% (232s)\n",
      "| epoch 004 | valid accuracy=86.7%\n",
      "| epoch 005 | train accuracy=89.3% (291s)\n",
      "| epoch 005 | valid accuracy=89.0%\n",
      "| epoch 006 | train accuracy=90.9% (349s)\n",
      "| epoch 006 | valid accuracy=90.2%\n",
      "| epoch 007 | train accuracy=92.1% (407s)\n",
      "| epoch 007 | valid accuracy=90.5%\n",
      "| epoch 008 | train accuracy=93.0% (465s)\n",
      "| epoch 008 | valid accuracy=91.2%\n",
      "| epoch 009 | train accuracy=93.6% (523s)\n",
      "| epoch 009 | valid accuracy=91.7%\n",
      "| epoch 010 | train accuracy=94.2% (582s)\n",
      "| epoch 010 | valid accuracy=91.9%\n",
      "| epoch 011 | train accuracy=94.7% (640s)\n",
      "| epoch 011 | valid accuracy=91.9%\n",
      "| epoch 012 | train accuracy=95.1% (698s)\n",
      "| epoch 012 | valid accuracy=92.1%\n",
      "| epoch 013 | train accuracy=95.5% (756s)\n",
      "| epoch 013 | valid accuracy=92.2%\n",
      "| epoch 014 | train accuracy=95.9% (814s)\n",
      "| epoch 014 | valid accuracy=92.2%\n",
      "| epoch 015 | train accuracy=96.2% (873s)\n",
      "| epoch 015 | valid accuracy=92.4%\n",
      "| epoch 016 | train accuracy=96.6% (931s)\n",
      "| epoch 016 | valid accuracy=92.4%\n",
      "| epoch 017 | train accuracy=96.8% (989s)\n",
      "| epoch 017 | valid accuracy=92.7%\n",
      "| epoch 018 | train accuracy=97.2% (1047s)\n",
      "| epoch 018 | valid accuracy=92.5%\n",
      "| epoch 019 | train accuracy=97.4% (1106s)\n",
      "| epoch 019 | valid accuracy=92.5%\n",
      "| epoch 020 | train accuracy=97.7% (1164s)\n",
      "| epoch 020 | valid accuracy=92.6%\n",
      "| epoch 021 | train accuracy=97.9% (1222s)\n",
      "| epoch 021 | valid accuracy=92.6%\n",
      "| epoch 022 | train accuracy=98.1% (1281s)\n",
      "| epoch 022 | valid accuracy=92.8%\n",
      "| epoch 023 | train accuracy=98.3% (1339s)\n",
      "| epoch 023 | valid accuracy=92.6%\n",
      "| epoch 024 | train accuracy=98.5% (1397s)\n",
      "| epoch 024 | valid accuracy=92.7%\n",
      "| epoch 025 | train accuracy=98.6% (1455s)\n",
      "| epoch 025 | valid accuracy=92.7%\n"
     ]
    }
   ],
   "source": [
    "batch_size, token_size = 256, 200000\n",
    "epochs = 25\n",
    "train_accuracy = []\n",
    "valid_accuracy = []\n",
    "model, optimizer = get_model()\n",
    "print(f'Training cross-validation model for {epochs} epochs')\n",
    "t0 = time.time()\n",
    "for epoch in range(1, epochs + 1):\n",
    "    acc = train(model, optimizer, train_data, batch_size, token_size, log=epoch==1)\n",
    "    train_accuracy.append(acc)\n",
    "    print(f'| epoch {epoch:03d} | train accuracy={acc:.1f}% ({time.time() - t0:.0f}s)')\n",
    "    acc = validate(model, val_data, batch_size, token_size)\n",
    "    valid_accuracy.append(acc)\n",
    "    print(f'| epoch {epoch:03d} | valid accuracy={acc:.1f}%')"
   ]
  },
  {
   "cell_type": "code",
   "execution_count": 16,
   "id": "5dd34916",
   "metadata": {
    "execution": {
     "iopub.execute_input": "2023-04-13T08:45:32.159546Z",
     "iopub.status.busy": "2023-04-13T08:45:32.159253Z",
     "iopub.status.idle": "2023-04-13T08:45:32.165840Z",
     "shell.execute_reply": "2023-04-13T08:45:32.164658Z"
    },
    "papermill": {
     "duration": 0.018132,
     "end_time": "2023-04-13T08:45:32.167884",
     "exception": false,
     "start_time": "2023-04-13T08:45:32.149752",
     "status": "completed"
    },
    "tags": []
   },
   "outputs": [
    {
     "name": "stdout",
     "output_type": "stream",
     "text": [
      "CharRNNClassifier(\n",
      "  (embed): Embedding(10808, 64, padding_idx=0)\n",
      "  (rnn): LSTM(64, 256)\n",
      "  (h2o): Linear(in_features=256, out_features=235, bias=True)\n",
      ")\n",
      "embed.weight         691712 [10808, 64]\n",
      "rnn.weight_ih_l0     65536 [1024, 64]\n",
      "rnn.weight_hh_l0     262144 [1024, 256]\n",
      "rnn.bias_ih_l0       1024 [1024]\n",
      "rnn.bias_hh_l0       1024 [1024]\n",
      "h2o.weight           60160 [235, 256]\n",
      "h2o.bias             235 [235]\n",
      "TOTAL                1081835\n"
     ]
    }
   ],
   "source": [
    "print(model)\n",
    "for name, param in model.named_parameters():\n",
    "    print(f'{name:20} {param.numel()} {list(param.shape)}')\n",
    "print(f'TOTAL                {sum(p.numel() for p in model.parameters())}')"
   ]
  },
  {
   "cell_type": "code",
   "execution_count": 17,
   "id": "af0f1e4d",
   "metadata": {
    "execution": {
     "iopub.execute_input": "2023-04-13T08:45:32.186084Z",
     "iopub.status.busy": "2023-04-13T08:45:32.185238Z",
     "iopub.status.idle": "2023-04-13T08:45:32.413574Z",
     "shell.execute_reply": "2023-04-13T08:45:32.412655Z"
    },
    "papermill": {
     "duration": 0.239609,
     "end_time": "2023-04-13T08:45:32.415752",
     "exception": false,
     "start_time": "2023-04-13T08:45:32.176143",
     "status": "completed"
    },
    "tags": []
   },
   "outputs": [
    {
     "data": {
      "image/png": "[encoded data removed]",
      "text/plain": [
       "<Figure size 640x480 with 1 Axes>"
      ]
     },
     "metadata": {},
     "output_type": "display_data"
    }
   ],
   "source": [
    "import matplotlib.pyplot as plt\n",
    "plt.plot(range(1, len(train_accuracy)+1), train_accuracy)\n",
    "plt.plot(range(1, len(valid_accuracy)+1), valid_accuracy)\n",
    "plt.xlabel('epoch')\n",
    "plt.ylabel('Accuracy');"
   ]
  },
  {
   "cell_type": "markdown",
   "id": "4c81c366",
   "metadata": {
    "papermill": {
     "duration": 0.008644,
     "end_time": "2023-04-13T08:45:32.433364",
     "exception": false,
     "start_time": "2023-04-13T08:45:32.424720",
     "status": "completed"
    },
    "tags": []
   },
   "source": [
    "**Final model**  \n",
    "Finally, we create a model using all the training data and we generate the submission with the predicted test labels"
   ]
  },
  {
   "cell_type": "code",
   "execution_count": 18,
   "id": "f002ddbb",
   "metadata": {
    "execution": {
     "iopub.execute_input": "2023-04-13T08:45:32.452018Z",
     "iopub.status.busy": "2023-04-13T08:45:32.451717Z",
     "iopub.status.idle": "2023-04-13T09:13:00.240364Z",
     "shell.execute_reply": "2023-04-13T09:13:00.239311Z"
    },
    "papermill": {
     "duration": 1647.809797,
     "end_time": "2023-04-13T09:13:00.251735",
     "exception": false,
     "start_time": "2023-04-13T08:45:32.441938",
     "status": "completed"
    },
    "tags": []
   },
   "outputs": [
    {
     "name": "stdout",
     "output_type": "stream",
     "text": [
      "Training final model for 25 epochs\n",
      "Train: wpb=90505, bsz=245, num_updates=479\n",
      "| epoch 001 | train accuracy=33.033 (66s)\n",
      "| epoch 002 | train accuracy=75.214 (132s)\n",
      "| epoch 003 | train accuracy=84.934 (198s)\n",
      "| epoch 004 | train accuracy=89.210 (264s)\n",
      "| epoch 005 | train accuracy=91.141 (330s)\n",
      "| epoch 006 | train accuracy=92.334 (395s)\n",
      "| epoch 007 | train accuracy=93.180 (461s)\n",
      "| epoch 008 | train accuracy=93.836 (527s)\n",
      "| epoch 009 | train accuracy=94.453 (593s)\n",
      "| epoch 010 | train accuracy=94.831 (659s)\n",
      "| epoch 011 | train accuracy=95.350 (725s)\n",
      "| epoch 012 | train accuracy=95.707 (791s)\n",
      "| epoch 013 | train accuracy=96.026 (857s)\n",
      "| epoch 014 | train accuracy=96.359 (923s)\n",
      "| epoch 015 | train accuracy=96.653 (989s)\n",
      "| epoch 016 | train accuracy=96.987 (1054s)\n",
      "| epoch 017 | train accuracy=97.206 (1120s)\n",
      "| epoch 018 | train accuracy=97.493 (1186s)\n",
      "| epoch 019 | train accuracy=97.671 (1252s)\n",
      "| epoch 020 | train accuracy=97.903 (1318s)\n",
      "| epoch 021 | train accuracy=98.104 (1384s)\n",
      "| epoch 022 | train accuracy=98.276 (1450s)\n",
      "| epoch 023 | train accuracy=98.430 (1516s)\n",
      "| epoch 024 | train accuracy=98.581 (1582s)\n",
      "| epoch 025 | train accuracy=98.729 (1648s)\n"
     ]
    }
   ],
   "source": [
    "print(f'Training final model for {epochs} epochs')\n",
    "model, optimizer = get_model()\n",
    "t0 = time.time()\n",
    "for epoch in range(1, epochs + 1):\n",
    "    acc = train(model, optimizer, train_data + val_data, batch_size, token_size, log=epoch==1)\n",
    "    print(f'| epoch {epoch:03d} | train accuracy={acc:.3f} ({time.time() - t0:.0f}s)')"
   ]
  },
  {
   "cell_type": "code",
   "execution_count": 19,
   "id": "9405faa8",
   "metadata": {
    "execution": {
     "iopub.execute_input": "2023-04-13T09:13:00.273170Z",
     "iopub.status.busy": "2023-04-13T09:13:00.272803Z",
     "iopub.status.idle": "2023-04-13T09:13:00.280914Z",
     "shell.execute_reply": "2023-04-13T09:13:00.279832Z"
    },
    "papermill": {
     "duration": 0.02155,
     "end_time": "2023-04-13T09:13:00.283295",
     "exception": false,
     "start_time": "2023-04-13T09:13:00.261745",
     "status": "completed"
    },
    "tags": []
   },
   "outputs": [],
   "source": [
    "def test(model, data, batch_size, token_size):\n",
    "    model.eval()\n",
    "    sindex = []\n",
    "    labels = []\n",
    "    with torch.no_grad():\n",
    "        for batch in pool_generator(data, batch_size, token_size):\n",
    "            # Get input sequences from batch\n",
    "            X = [torch.from_numpy(d[0]) for d in batch]\n",
    "            X_lengths = torch.tensor([x.numel() for x in X], dtype=torch.long)\n",
    "            # Pad the input sequences to create a matrix\n",
    "            X = torch.nn.utils.rnn.pad_sequence(X).to(device)\n",
    "            answer = model(X, X_lengths)\n",
    "            label = torch.max(answer, 1)[1].cpu().numpy()\n",
    "            # Save labels and sentences index\n",
    "            labels.append(label)\n",
    "            sindex += [d[1] for d in batch]\n",
    "    return np.array(sindex), np.concatenate(labels)"
   ]
  },
  {
   "cell_type": "markdown",
   "id": "40e2b678",
   "metadata": {
    "papermill": {
     "duration": 0.009825,
     "end_time": "2023-04-13T09:13:00.303010",
     "exception": false,
     "start_time": "2023-04-13T09:13:00.293185",
     "status": "completed"
    },
    "tags": []
   },
   "source": [
    "In the test database we replace the label (language) with a sentence index.  "
   ]
  },
  {
   "cell_type": "code",
   "execution_count": 20,
   "id": "7f343655",
   "metadata": {
    "execution": {
     "iopub.execute_input": "2023-04-13T09:13:00.324108Z",
     "iopub.status.busy": "2023-04-13T09:13:00.323839Z",
     "iopub.status.idle": "2023-04-13T09:13:13.327833Z",
     "shell.execute_reply": "2023-04-13T09:13:13.326747Z"
    },
    "papermill": {
     "duration": 13.017931,
     "end_time": "2023-04-13T09:13:13.330879",
     "exception": false,
     "start_time": "2023-04-13T09:13:00.312948",
     "status": "completed"
    },
    "tags": []
   },
   "outputs": [],
   "source": [
    "x_test_txt = open(f'{INPUTDIR}/x_test.txt').read().splitlines()\n",
    "x_test_idx = [np.array([char_vocab.token2idx[c] if c in char_vocab.token2idx else unk_index for c in line]) for line in x_test_txt]\n",
    "test_data = [(x, idx) for idx, x in enumerate(x_test_idx)]"
   ]
  },
  {
   "cell_type": "markdown",
   "id": "6672dd8d",
   "metadata": {
    "papermill": {
     "duration": 0.010128,
     "end_time": "2023-04-13T09:13:13.352016",
     "exception": false,
     "start_time": "2023-04-13T09:13:13.341888",
     "status": "completed"
    },
    "tags": []
   },
   "source": [
    "The sentence index is used to rearrange the labels in the original sentence order"
   ]
  },
  {
   "cell_type": "code",
   "execution_count": 21,
   "id": "795aa80b",
   "metadata": {
    "execution": {
     "iopub.execute_input": "2023-04-13T09:13:13.374055Z",
     "iopub.status.busy": "2023-04-13T09:13:13.373708Z",
     "iopub.status.idle": "2023-04-13T09:13:31.709368Z",
     "shell.execute_reply": "2023-04-13T09:13:31.708276Z"
    },
    "papermill": {
     "duration": 18.349645,
     "end_time": "2023-04-13T09:13:31.711974",
     "exception": false,
     "start_time": "2023-04-13T09:13:13.362329",
     "status": "completed"
    },
    "tags": []
   },
   "outputs": [],
   "source": [
    "index, labels = test(model, test_data, batch_size, token_size)\n",
    "order = np.argsort(index)\n",
    "labels = labels[order]"
   ]
  },
  {
   "cell_type": "code",
   "execution_count": 22,
   "id": "6cded299",
   "metadata": {
    "execution": {
     "iopub.execute_input": "2023-04-13T09:13:31.734272Z",
     "iopub.status.busy": "2023-04-13T09:13:31.733963Z",
     "iopub.status.idle": "2023-04-13T09:13:31.846858Z",
     "shell.execute_reply": "2023-04-13T09:13:31.845703Z"
    },
    "papermill": {
     "duration": 0.126603,
     "end_time": "2023-04-13T09:13:31.849203",
     "exception": false,
     "start_time": "2023-04-13T09:13:31.722600",
     "status": "completed"
    },
    "tags": []
   },
   "outputs": [
    {
     "name": "stdout",
     "output_type": "stream",
     "text": [
      "0,mwl\n",
      "1,nld\n",
      "2,ava\n",
      "3,tcy\n",
      "4,bjn\n",
      "5,mon\n",
      "6,glk\n",
      "7,lez\n",
      "8,bul\n",
      "9,nan\n"
     ]
    }
   ],
   "source": [
    "with open('submission.csv', 'w') as f:\n",
    "    print('Id,Language', file=f)\n",
    "    for sentence_id, lang_id in enumerate(labels):\n",
    "        language = lang_vocab.idx2token[lang_id]\n",
    "        if sentence_id < 10:\n",
    "            print(f'{sentence_id},{language}')\n",
    "        print(f'{sentence_id},{language}', file=f)"
   ]
  }
 ],
 "metadata": {
  "kernelspec": {
   "display_name": "Python 3",
   "language": "python",
   "name": "python3"
  },
  "language_info": {
   "codemirror_mode": {
    "name": "ipython",
    "version": 3
   },
   "file_extension": ".py",
   "mimetype": "text/x-python",
   "name": "python",
   "nbconvert_exporter": "python",
   "pygments_lexer": "ipython3",
   "version": "3.7.12"
  },
  "papermill": {
   "default_parameters": {},
   "duration": 3168.348447,
   "end_time": "2023-04-13T09:13:34.539041",
   "environment_variables": {},
   "exception": null,
   "input_path": "__notebook__.ipynb",
   "output_path": "__notebook__.ipynb",
   "parameters": {},
   "start_time": "2023-04-13T08:20:46.190594",
   "version": "2.4.0"
  }
 },
 "nbformat": 4,
 "nbformat_minor": 5
}
